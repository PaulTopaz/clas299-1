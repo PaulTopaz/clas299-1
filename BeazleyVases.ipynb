{
 "cells": [
  {
   "cell_type": "markdown",
   "metadata": {},
   "source": [
    "# Archaeological Data Analysis: lab module 2\n",
    "\n",
    "### Author: Kassandra Merino Muniz, Paul Topazio"
   ]
  },
  {
   "cell_type": "markdown",
   "metadata": {},
   "source": [
    "## Download delimited-text data\n",
    "\n",
    "We'll make the standard Scala `Source` object available by `import`ing it, then use it to retrieve the content of a URL."
   ]
  },
  {
   "cell_type": "code",
   "execution_count": 1,
   "metadata": {
    "inputHidden": false,
    "outputHidden": false
   },
   "outputs": [
    {
     "data": {
      "text/plain": [
       "\u001b[32mimport \u001b[39m\u001b[36mscala.io.Source\n",
       "\u001b[39m\n",
       "\u001b[36mvases2020cex\u001b[39m: \u001b[32mString\u001b[39m = \u001b[32m\"https://raw.githubusercontent.com/kassandramerinomuniz/clas299/master/Painters\"\u001b[39m"
      ]
     },
     "execution_count": 1,
     "metadata": {},
     "output_type": "execute_result"
    }
   ],
   "source": [
    "import scala.io.Source\n",
    "val vases2020cex = \"https://raw.githubusercontent.com/kassandramerinomuniz/clas299/master/Painters\""
   ]
  },
  {
   "cell_type": "markdown",
   "metadata": {},
   "source": [
    "We'll extract a sequence of lines from the URL source, and convert them to our favorite type of Scala collection, a `Vector`.\n",
    "\n",
    "(The following cell downloads the data:  depending on your internet connection, this might take a moment.)"
   ]
  },
  {
   "cell_type": "code",
   "execution_count": 2,
   "metadata": {
    "inputHidden": false,
    "outputHidden": false
   },
   "outputs": [
    {
     "data": {
      "text/plain": [
       "\u001b[36mlines\u001b[39m: \u001b[32mVector\u001b[39m[\u001b[32mString\u001b[39m] = \u001b[33mVector\u001b[39m(\n",
       "  \u001b[32m\"painter#beazley#museumId#shape#findspot#subject#pleiades\"\u001b[39m,\n",
       "  \u001b[32m\"The Painter of Acropolis#1#Athens Act. 24#Plates#Athens#Woman seated#NA\"\u001b[39m,\n",
       "  \u001b[32m\"The Painter of Acropolis#2#Oxford, Beazley#Plates#unknown#Woman, holding wreath, seated at wool-basket#NA\"\u001b[39m,\n",
       "  \u001b[32m\"The Painter of Acropolis#3#Athens Act. 562#Pyxides#Athens#Women#NA\"\u001b[39m,\n",
       "  \u001b[32m\"The Painter of Acropolis#4#Athens#Pyxides#Attica#Arms and thighs of a woman seated to the right, holding out a wreath or necklace, upper part of a youth in a himation leaning on his stick to left, left arm extended)#NA\"\u001b[39m,\n",
       "  \u001b[32m\"Phintias#1#Lourve G 42#Amphorae#Vulci#A, Apollo and Tityos. B, athletes, Greek letters#NA\"\u001b[39m,\n",
       "  \u001b[32m\"Phintias#2#Tarquinia RC 6843#Amphorae#Tarquinia#A, Dionysos with satyrs and maenads. B, Herakles and Apollo: the struggle for the tripod. On A and B, Greek letters#NA\"\u001b[39m,\n",
       "  \u001b[32m\"Phintias#3#Lourve C 10784#Pelike#unknown#A, Dionysos with maenad and satyr. B, athletes. On A, greek letters. The satyr is Phlebodokos, the maenad Kissine#NA\"\u001b[39m,\n",
       "  \u001b[32m\"Phintias#4#Berlin 2181 and Villa Giulia#Volute-Krater#unknown#Fight?#NA\"\u001b[39m,\n",
       "  \u001b[32m\"Phintias#5#Leningrad inv. 1843#Calyx-Kraters#unknown#A, Theseus and (the bull?). B, wounding of Telephos#NA\"\u001b[39m,\n",
       "  \u001b[32m\"Phintias#6#Limenas#Calyx-Kraters#Thasos#A, Achilles and Memnon#NA\"\u001b[39m,\n",
       "  \u001b[32m\"Phintias#7#Munich 2421#Hydriai#Vulci#On the shoulder, symposion (two women). On the shoulder, greek letters#NA\"\u001b[39m,\n",
       "  \u001b[32m\"Phintias#8#Munich 2422#Hydriai#Vulci#On the shoulder, satyrs molesting a deer#NA\"\u001b[39m,\n",
       "  \u001b[32m\"Phintias#9#London E 159#Hydriai#Vulci#Youths at the fountain. On the shoulder, symposion (man and youth reclining). On the shoulder, greek letters#NA\"\u001b[39m,\n",
       "  \u001b[32m\"Phintias#10#Basle, Cahn#Hydriai#unknown#On the left, male reclining, then a naked woman#NA\"\u001b[39m,\n",
       "  \u001b[32m\"Phintias#11#Boston 01.8019#Pyskter#Orvieto#Athletes#NA\"\u001b[39m,\n",
       "  \u001b[32m\"Phintias#12#Munich 2590#Cups#Vulci#A, Herakles and Alkyineus. B, Herakles and Apollo: the struggle for the tripod. On A, greek letters#NA\"\u001b[39m,\n",
       "  \u001b[32m\"Phintias#13#Florence PD 117#Cups#Populonia#unkwown#NA\"\u001b[39m,\n",
       "  \u001b[32m\"Phintias#14#Baltimore#Cups#Chiusi#I, youth buying a vase#NA\"\u001b[39m,\n",
       "  \u001b[32m\"Phintias#1#Athens Act. 636#Loutrophoros#Athens#On the neck, procession: a sow led to sacrifice. On the upper right handle, woman. The inscription to the right of the flute-player is greek letters.\"\u001b[39m,\n",
       "  \u001b[32m\"Phintias#2#Athens Act. 766#Fragment of a Pot#Athens#Unexplained subject?#NA\"\u001b[39m,\n",
       "  \u001b[32m\"Phintias, Potter#1#Athens 1628#Cup#Tangara#I, warrior kneeling, putting on hi\u001b[39m..."
      ]
     },
     "execution_count": 2,
     "metadata": {},
     "output_type": "execute_result"
    }
   ],
   "source": [
    "val lines = Source.fromURL(vases2020cex).getLines.toVector"
   ]
  },
  {
   "cell_type": "markdown",
   "metadata": {},
   "source": [
    "## Examine header line\n",
    "\n",
    "To start with, let's see what the first line looks like, and compare it with the first data line."
   ]
  },
  {
   "cell_type": "code",
   "execution_count": 3,
   "metadata": {},
   "outputs": [
    {
     "data": {
      "text/plain": [
       "\u001b[36mres2\u001b[39m: \u001b[32mString\u001b[39m = \u001b[32m\"painter#beazley#museumId#shape#findspot#subject#pleiades\"\u001b[39m"
      ]
     },
     "execution_count": 3,
     "metadata": {},
     "output_type": "execute_result"
    }
   ],
   "source": [
    "lines.head // same as lines(0)"
   ]
  },
  {
   "cell_type": "code",
   "execution_count": 4,
   "metadata": {
    "inputHidden": false,
    "outputHidden": false
   },
   "outputs": [
    {
     "data": {
      "text/plain": [
       "\u001b[36mres3\u001b[39m: \u001b[32mString\u001b[39m = \u001b[32m\"The Painter of Acropolis#1#Athens Act. 24#Plates#Athens#Woman seated#NA\"\u001b[39m"
      ]
     },
     "execution_count": 4,
     "metadata": {},
     "output_type": "execute_result"
    }
   ],
   "source": [
    "lines(1)"
   ]
  },
  {
   "cell_type": "markdown",
   "metadata": {},
   "source": [
    "## Split data strings into columns\n",
    "\n",
    "Every line is a `String`.  If we break it up using the `split` method, we get an `Array` of `String`s, which we'll convert to a `Vector` of `String`s.  The end result will be that from a Vector of Strings, we create a Vector of Vectors of Strings.  Notice that Scala identifies the class of the new `data` expression as  `Vector[Vector[String]]`.\n",
    " "
   ]
  },
  {
   "cell_type": "code",
   "execution_count": 5,
   "metadata": {
    "inputHidden": false,
    "outputHidden": false
   },
   "outputs": [
    {
     "data": {
      "text/plain": [
       "\u001b[36mdata\u001b[39m: \u001b[32mVector\u001b[39m[\u001b[32mVector\u001b[39m[\u001b[32mString\u001b[39m]] = \u001b[33mVector\u001b[39m(\n",
       "  \u001b[33mVector\u001b[39m(\n",
       "    \u001b[32m\"The Painter of Acropolis\"\u001b[39m,\n",
       "    \u001b[32m\"1\"\u001b[39m,\n",
       "    \u001b[32m\"Athens Act. 24\"\u001b[39m,\n",
       "    \u001b[32m\"Plates\"\u001b[39m,\n",
       "    \u001b[32m\"Athens\"\u001b[39m,\n",
       "    \u001b[32m\"Woman seated\"\u001b[39m,\n",
       "    \u001b[32m\"NA\"\u001b[39m\n",
       "  ),\n",
       "  \u001b[33mVector\u001b[39m(\n",
       "    \u001b[32m\"The Painter of Acropolis\"\u001b[39m,\n",
       "    \u001b[32m\"2\"\u001b[39m,\n",
       "    \u001b[32m\"Oxford, Beazley\"\u001b[39m,\n",
       "    \u001b[32m\"Plates\"\u001b[39m,\n",
       "    \u001b[32m\"unknown\"\u001b[39m,\n",
       "    \u001b[32m\"Woman, holding wreath, seated at wool-basket\"\u001b[39m,\n",
       "    \u001b[32m\"NA\"\u001b[39m\n",
       "  ),\n",
       "  \u001b[33mVector\u001b[39m(\n",
       "    \u001b[32m\"The Painter of Acropolis\"\u001b[39m,\n",
       "    \u001b[32m\"3\"\u001b[39m,\n",
       "    \u001b[32m\"Athens Act. 562\"\u001b[39m,\n",
       "    \u001b[32m\"Pyxides\"\u001b[39m,\n",
       "    \u001b[32m\"Athens\"\u001b[39m,\n",
       "    \u001b[32m\"Women\"\u001b[39m,\n",
       "    \u001b[32m\"NA\"\u001b[39m\n",
       "  ),\n",
       "  \u001b[33mVector\u001b[39m(\n",
       "    \u001b[32m\"The Painter of Acropolis\"\u001b[39m,\n",
       "    \u001b[32m\"4\"\u001b[39m,\n",
       "    \u001b[32m\"Athens\"\u001b[39m,\n",
       "    \u001b[32m\"Pyxides\"\u001b[39m,\n",
       "    \u001b[32m\"Attica\"\u001b[39m,\n",
       "    \u001b[32m\"Arms and thighs of a woman seated to the right, holding out a wreath or necklace, upper part of a youth in a himation leaning on his stick to left, left arm extended)\"\u001b[39m,\n",
       "    \u001b[32m\"NA\"\u001b[39m\n",
       "  ),\n",
       "..."
      ]
     },
     "execution_count": 5,
     "metadata": {},
     "output_type": "execute_result"
    }
   ],
   "source": [
    "val data = lines.tail.map(ln => ln.split(\"#\").toVector)"
   ]
  },
  {
   "cell_type": "markdown",
   "metadata": {},
   "source": [
    "Mapping each Vector to the first item in the Vector is equivalent to extracting the first column from each Vector.  The header line told us that the first column should contain ID values."
   ]
  },
  {
   "cell_type": "code",
   "execution_count": 6,
   "metadata": {
    "inputHidden": false,
    "outputHidden": false
   },
   "outputs": [
    {
     "data": {
      "text/plain": [
       "\u001b[36mpainters\u001b[39m: \u001b[32mVector\u001b[39m[\u001b[32mString\u001b[39m] = \u001b[33mVector\u001b[39m(\n",
       "  \u001b[32m\"The Painter of Acropolis\"\u001b[39m,\n",
       "  \u001b[32m\"The Painter of Acropolis\"\u001b[39m,\n",
       "  \u001b[32m\"The Painter of Acropolis\"\u001b[39m,\n",
       "  \u001b[32m\"The Painter of Acropolis\"\u001b[39m,\n",
       "  \u001b[32m\"Phintias\"\u001b[39m,\n",
       "  \u001b[32m\"Phintias\"\u001b[39m,\n",
       "  \u001b[32m\"Phintias\"\u001b[39m,\n",
       "  \u001b[32m\"Phintias\"\u001b[39m,\n",
       "  \u001b[32m\"Phintias\"\u001b[39m,\n",
       "  \u001b[32m\"Phintias\"\u001b[39m,\n",
       "  \u001b[32m\"Phintias\"\u001b[39m,\n",
       "  \u001b[32m\"Phintias\"\u001b[39m,\n",
       "  \u001b[32m\"Phintias\"\u001b[39m,\n",
       "  \u001b[32m\"Phintias\"\u001b[39m,\n",
       "  \u001b[32m\"Phintias\"\u001b[39m,\n",
       "  \u001b[32m\"Phintias\"\u001b[39m,\n",
       "  \u001b[32m\"Phintias\"\u001b[39m,\n",
       "  \u001b[32m\"Phintias\"\u001b[39m,\n",
       "  \u001b[32m\"Phintias\"\u001b[39m,\n",
       "  \u001b[32m\"Phintias\"\u001b[39m,\n",
       "  \u001b[32m\"Phintias, Potter\"\u001b[39m,\n",
       "  \u001b[32m\"Phintias, Potter\"\u001b[39m,\n",
       "  \u001b[32m\"Phintias, Potter\"\u001b[39m,\n",
       "  \u001b[32m\"Phintias, Potter\"\u001b[39m,\n",
       "  \u001b[32m\"Phintias, Potter\"\u001b[39m,\n",
       "  \u001b[32m\"Phintias, Potter\"\u001b[39m,\n",
       "  \u001b[32m\"Compare\"\u001b[39m,\n",
       "  \u001b[32m\"Phintias, Potter\"\u001b[39m\n",
       ")"
      ]
     },
     "execution_count": 6,
     "metadata": {},
     "output_type": "execute_result"
    }
   ],
   "source": [
    "val painters = data.map(columns => columns(0))"
   ]
  },
  {
   "cell_type": "code",
   "execution_count": 7,
   "metadata": {},
   "outputs": [
    {
     "data": {
      "text/plain": [
       "\u001b[36mres6\u001b[39m: \u001b[32mVector\u001b[39m[\u001b[32mString\u001b[39m] = \u001b[33mVector\u001b[39m(\n",
       "  \u001b[32m\"Compare\"\u001b[39m,\n",
       "  \u001b[32m\"Phintias\"\u001b[39m,\n",
       "  \u001b[32m\"Phintias, Potter\"\u001b[39m,\n",
       "  \u001b[32m\"The Painter of Acropolis\"\u001b[39m\n",
       ")"
      ]
     },
     "execution_count": 7,
     "metadata": {},
     "output_type": "execute_result"
    }
   ],
   "source": [
    "painters.distinct.sorted"
   ]
  },
  {
   "cell_type": "code",
   "execution_count": 0,
   "metadata": {},
   "outputs": [
    {
     "name": "stderr",
     "output_type": "stream",
     "text": [
      "cmd0.sc:1: not found: value data\n",
      "val shapes = data.map(columns => columns(2))\n",
      "             ^Compilation Failed"
     ]
    },
    {
     "ename": "",
     "evalue": "",
     "output_type": "error",
     "traceback": [
      "Compilation Failed"
     ]
    }
   ],
   "source": [
    "val shapes = data.map(columns => columns(2))"
   ]
  },
  {
   "cell_type": "markdown",
   "metadata": {},
   "source": [
    "We want to be sure that all ID values are unique.  We can verify that by comparing the number of items in the `ids` Vector with the number of *distinct values* in the `ids` Vector.  If they're the same, then every value is unique."
   ]
  },
  {
   "cell_type": "code",
   "execution_count": 11,
   "metadata": {
    "inputHidden": false,
    "outputHidden": false
   },
   "outputs": [
    {
     "name": "stdout",
     "output_type": "stream",
     "text": [
      "Duplicate identifiers in data set.\n"
     ]
    }
   ],
   "source": [
    "//println(\"Records: \" + ids.size)\n",
    "//println(\"Distinct IDs: \" + ids.distinct.size)\n",
    "if(ids.size == ids.distinct.size) {\n",
    "    println(\"All records uniquely identified.\")\n",
    "} else {\n",
    "    println(\"Duplicate identifiers in data set.\")\n",
    "}"
   ]
  }
 ],
 "metadata": {
  "kernel_info": {
   "name": "scala212"
  },
  "kernelspec": {
   "display_name": "Scala (2.12)",
   "language": "scala",
   "name": "scala212"
  },
  "language_info": {
   "codemirror_mode": "text/x-scala",
   "file_extension": ".scala",
   "mimetype": "text/x-scala",
   "name": "scala",
   "nbconvert_exporter": "script",
   "version": "2.12.10"
  },
  "nteract": {
   "version": "0.15.0"
  }
 },
 "nbformat": 4,
 "nbformat_minor": 2
}
